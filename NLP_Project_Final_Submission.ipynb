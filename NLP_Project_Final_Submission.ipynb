{
  "nbformat": 4,
  "nbformat_minor": 0,
  "metadata": {
    "colab": {
      "provenance": [],
      "collapsed_sections": [
        "RYheBCPlmfkj"
      ]
    },
    "kernelspec": {
      "name": "python3",
      "display_name": "Python 3"
    },
    "language_info": {
      "name": "python"
    }
  },
  "cells": [
    {
      "cell_type": "markdown",
      "source": [
        "# How to Run File"
      ],
      "metadata": {
        "id": "qQD5F9woThxi"
      }
    },
    {
      "cell_type": "markdown",
      "source": [
        "In order to run the file all you need is to put the glove.6B.100d.txt in the same folder as this file and run the notebook from top to bottom all the data set are uploaded online and loaded directly from our github repository so there is no need for anything else."
      ],
      "metadata": {
        "id": "er2ic3oETmnw"
      }
    },
    {
      "cell_type": "markdown",
      "source": [
        "# Importing all the libraries"
      ],
      "metadata": {
        "id": "okhndTu2SrG-"
      }
    },
    {
      "cell_type": "code",
      "execution_count": 1,
      "metadata": {
        "id": "4gmTDLKoLj0_"
      },
      "outputs": [],
      "source": [
        "import pandas as pd\n",
        "import numpy as np\n",
        "import os\n",
        "from nltk.tokenize import TreebankWordTokenizer\n",
        "from nltk.tokenize.punkt import PunktSentenceTokenizer, PunktParameters\n",
        "from nltk.tokenize.simple import TabTokenizer\n",
        "from os.path import isfile, join\n",
        "from sklearn.naive_bayes import MultinomialNB\n",
        "from gensim.models import Word2Vec,KeyedVectors\n",
        "import requests\n",
        "from imblearn.over_sampling import RandomOverSampler\n",
        "from sklearn.manifold import TSNE\n",
        "import matplotlib.pyplot as plt\n",
        "import matplotlib.cm as cm\n",
        "from collections import Counter\n",
        "import seaborn as sns\n",
        "from sklearn.model_selection import train_test_split\n",
        "from sklearn.linear_model import LogisticRegression\n",
        "from sklearn.feature_extraction.text import CountVectorizer\n",
        "from sklearn import preprocessing\n",
        "from sklearn.preprocessing import StandardScaler\n",
        "from sklearn.ensemble import RandomForestClassifier\n",
        "from sklearn.metrics import classification_report, confusion_matrix, f1_score,accuracy_score, precision_score, recall_score, roc_auc_score\n",
        "from tensorflow import keras\n",
        "import tensorflow as tf\n",
        "from keras_preprocessing.sequence import pad_sequences\n",
        "from keras.preprocessing.text import Tokenizer\n",
        "from keras.utils import to_categorical\n",
        "from keras.models import Sequential\n",
        "from keras.layers import Dense\n",
        "from keras.layers import SimpleRNN\n",
        "from keras.layers import Embedding\n",
        "from keras.layers import Bidirectional\n",
        "from keras.layers import LSTM\n",
        "from keras.layers import Flatten\n",
        "from keras.initializers import Constant\n",
        "from sklearn.metrics.pairwise import cosine_similarity\n",
        "import random\n",
        "from sklearn.utils import class_weight\n",
        "import warnings\n",
        "from numpy import array\n",
        "from numpy import asarray\n",
        "from numpy import zeros\n",
        "\n",
        "# tf.config.run_functions_eagerly(True)\n",
        "\n",
        "random.seed(10)\n",
        "%matplotlib inline\n",
        "from matplotlib.axes._axes import _log as matplotlib_axes_logger\n",
        "matplotlib_axes_logger.setLevel('ERROR')"
      ]
    },
    {
      "cell_type": "markdown",
      "source": [
        "# Importing the data set and all the lexicons"
      ],
      "metadata": {
        "id": "jSRx5RyxSzCF"
      }
    },
    {
      "cell_type": "code",
      "source": [
        "EmotionDataTrain = pd.read_csv('https://github.com/Arnobiuspk/DataSetHw4/blob/main/train.txt?raw=true',sep=';',header=None, names=['Sentence','Emotion'])\n",
        "EmotionDataTest = pd.read_csv('https://github.com/Arnobiuspk/DataSetHw4/blob/main/test.txt?raw=true',sep=';',header=None, names=['Sentence','Emotion'])\n",
        "EmotionDataValidate = pd.read_csv('https://github.com/Arnobiuspk/DataSetHw4/blob/main/val.txt?raw=true',sep=';',header=None, names=['Sentence','Emotion'])\n",
        "TempData = [EmotionDataTrain,EmotionDataTest,EmotionDataValidate]\n",
        "EmotionData = pd.concat(TempData)"
      ],
      "metadata": {
        "id": "27wY2TOlLt3U"
      },
      "execution_count": null,
      "outputs": []
    },
    {
      "cell_type": "code",
      "source": [
        "AngerLexicon = pd.read_csv('https://github.com/Arnobiuspk/DataSetHw4/blob/main/anger.txt?raw=true',sep='\\t',header=None, names=['word','Inlexicon'])\n",
        "fearlexicon = pd.read_csv('https://github.com/Arnobiuspk/DataSetHw4/blob/main/fear.txt?raw=true',sep='\\t',header=None, names=['word','Inlexicon'])\n",
        "joylexicon = pd.read_csv('https://github.com/Arnobiuspk/DataSetHw4/blob/main/joy.txt?raw=true',sep='\\t',header=None, names=['word','Inlexicon'])\n",
        "positivelexicon = pd.read_csv('https://github.com/Arnobiuspk/DataSetHw4/blob/main/positive.txt?raw=true',sep='\\t',header=None, names=['word','Inlexicon'])\n",
        "sadnesslexicon = pd.read_csv('https://github.com/Arnobiuspk/DataSetHw4/blob/main/sadness.txt?raw=true',sep='\\t',header=None, names=['word','Inlexicon'])\n",
        "surpriselexicon = pd.read_csv('https://github.com/Arnobiuspk/DataSetHw4/blob/main/surprise.txt?raw=true',sep='\\t',header=None, names=['word','Inlexicon'])\n",
        "negativelexicon = pd.read_csv('https://github.com/Arnobiuspk/DataSetHw4/blob/main/negative.txt?raw=true',sep='\\t',header=None, names=['word','Inlexicon'])"
      ],
      "metadata": {
        "id": "h85mFEaPDEiG"
      },
      "execution_count": null,
      "outputs": []
    },
    {
      "cell_type": "markdown",
      "source": [
        "# Importing the Glove Embeddings"
      ],
      "metadata": {
        "id": "H1KwimCMS46y"
      }
    },
    {
      "cell_type": "code",
      "source": [
        "def load_embeddings(filename):\n",
        "    \"\"\"\n",
        "    Load a DataFrame from the generalized text format used by word2vec, GloVe,\n",
        "    fastText, and ConceptNet Numberbatch. The main point where they differ is\n",
        "    whether there is an initial line with the dimensions of the matrix.\n",
        "    \"\"\"\n",
        "    labels = []\n",
        "    rows = []\n",
        "    with open(filename, encoding='utf-8') as infile:\n",
        "        for i, line in enumerate(infile):\n",
        "            items = line.rstrip().split(' ')\n",
        "            if len(items) == 2:\n",
        "                # This is a header row giving the shape of the matrix\n",
        "                continue\n",
        "            labels.append(items[0])\n",
        "            values = np.array([float(x) for x in items[1:]], 'f')\n",
        "            rows.append(values)\n",
        "    \n",
        "    arr = np.vstack(rows)\n",
        "    return pd.DataFrame(arr, index=labels, dtype='f')\n",
        "\n",
        "# embeddings = load_embeddings('glove.6B.50d.txt')\n",
        "# embeddings.shape"
      ],
      "metadata": {
        "colab": {
          "base_uri": "https://localhost:8080/"
        },
        "id": "WH4CuFCDCaqs",
        "outputId": "668cbbc9-28e6-47e6-b27d-1ab7ec6ea033"
      },
      "execution_count": null,
      "outputs": [
        {
          "output_type": "execute_result",
          "data": {
            "text/plain": [
              "(400000, 50)"
            ]
          },
          "metadata": {},
          "execution_count": 7
        }
      ]
    },
    {
      "cell_type": "code",
      "source": [
        "embeddings_dictionary = dict()\n",
        "glove_file = open('glove.6B.100d.txt', encoding=\"utf8\")\n",
        "for line in glove_file:\n",
        "    records = line.split()\n",
        "    word = records[0]\n",
        "    vector_dimensions = asarray(records[1:], dtype='float32')\n",
        "    embeddings_dictionary [word] = vector_dimensions\n",
        "glove_file.close()"
      ],
      "metadata": {
        "id": "urJmv76UNGni"
      },
      "execution_count": null,
      "outputs": []
    },
    {
      "cell_type": "code",
      "source": [
        "embeddings_dictionary['the']"
      ],
      "metadata": {
        "colab": {
          "base_uri": "https://localhost:8080/"
        },
        "id": "U5dCt9YtNpUd",
        "outputId": "6eac050c-d767-421e-ecf0-2116f3a7bfe9"
      },
      "execution_count": null,
      "outputs": [
        {
          "output_type": "execute_result",
          "data": {
            "text/plain": [
              "array([-0.038194, -0.24487 ,  0.72812 , -0.39961 ,  0.083172,  0.043953,\n",
              "       -0.39141 ,  0.3344  , -0.57545 ,  0.087459,  0.28787 , -0.06731 ,\n",
              "        0.30906 , -0.26384 , -0.13231 , -0.20757 ,  0.33395 , -0.33848 ,\n",
              "       -0.31743 , -0.48336 ,  0.1464  , -0.37304 ,  0.34577 ,  0.052041,\n",
              "        0.44946 , -0.46971 ,  0.02628 , -0.54155 , -0.15518 , -0.14107 ,\n",
              "       -0.039722,  0.28277 ,  0.14393 ,  0.23464 , -0.31021 ,  0.086173,\n",
              "        0.20397 ,  0.52624 ,  0.17164 , -0.082378, -0.71787 , -0.41531 ,\n",
              "        0.20335 , -0.12763 ,  0.41367 ,  0.55187 ,  0.57908 , -0.33477 ,\n",
              "       -0.36559 , -0.54857 , -0.062892,  0.26584 ,  0.30205 ,  0.99775 ,\n",
              "       -0.80481 , -3.0243  ,  0.01254 , -0.36942 ,  2.2167  ,  0.72201 ,\n",
              "       -0.24978 ,  0.92136 ,  0.034514,  0.46745 ,  1.1079  , -0.19358 ,\n",
              "       -0.074575,  0.23353 , -0.052062, -0.22044 ,  0.057162, -0.15806 ,\n",
              "       -0.30798 , -0.41625 ,  0.37972 ,  0.15006 , -0.53212 , -0.2055  ,\n",
              "       -1.2526  ,  0.071624,  0.70565 ,  0.49744 , -0.42063 ,  0.26148 ,\n",
              "       -1.538   , -0.30223 , -0.073438, -0.28312 ,  0.37104 , -0.25217 ,\n",
              "        0.016215, -0.017099, -0.38984 ,  0.87424 , -0.72569 , -0.51058 ,\n",
              "       -0.52028 , -0.1459  ,  0.8278  ,  0.27062 ], dtype=float32)"
            ]
          },
          "metadata": {},
          "execution_count": 9
        }
      ]
    },
    {
      "cell_type": "markdown",
      "source": [
        "# Data Preprocessing and Analysis"
      ],
      "metadata": {
        "id": "X8WghCCWTBcD"
      }
    },
    {
      "cell_type": "code",
      "source": [
        "def convertolist(lexicondf):\n",
        "  lexicondf = lexicondf[lexicondf['Inlexicon'] == 1]\n",
        "  lexicondf.drop('Inlexicon', inplace=True, axis=1)\n",
        "  return lexicondf['word'].tolist()\n",
        "\n",
        "AngerLexicon = convertolist(AngerLexicon)\n",
        "fearlexicon = convertolist(fearlexicon)\n",
        "joylexicon = convertolist(joylexicon)\n",
        "positivelexicon = convertolist(positivelexicon)\n",
        "sadnesslexicon = convertolist(sadnesslexicon)\n",
        "surpriselexicon = convertolist(surpriselexicon)\n",
        "negativelexicon = convertolist(negativelexicon)"
      ],
      "metadata": {
        "colab": {
          "base_uri": "https://localhost:8080/"
        },
        "id": "EaXTRnVxD5XG",
        "outputId": "e25ec2b9-5aa6-4182-cdb2-c2ee49d674a2"
      },
      "execution_count": null,
      "outputs": [
        {
          "output_type": "stream",
          "name": "stderr",
          "text": [
            "/usr/local/lib/python3.8/dist-packages/pandas/core/frame.py:4906: SettingWithCopyWarning: \n",
            "A value is trying to be set on a copy of a slice from a DataFrame\n",
            "\n",
            "See the caveats in the documentation: https://pandas.pydata.org/pandas-docs/stable/user_guide/indexing.html#returning-a-view-versus-a-copy\n",
            "  return super().drop(\n"
          ]
        }
      ]
    },
    {
      "cell_type": "code",
      "source": [
        "EmotionData"
      ],
      "metadata": {
        "colab": {
          "base_uri": "https://localhost:8080/",
          "height": 433
        },
        "id": "FZGOOPTgPP4e",
        "outputId": "7fa48f96-a794-4385-deee-3feec3fa79c1"
      },
      "execution_count": null,
      "outputs": [
        {
          "output_type": "execute_result",
          "data": {
            "text/plain": [
              "                                               Sentence  Emotion\n",
              "0                               i didnt feel humiliated  sadness\n",
              "1     i can go from feeling so hopeless to so damned...  sadness\n",
              "2      im grabbing a minute to post i feel greedy wrong    anger\n",
              "3     i am ever feeling nostalgic about the fireplac...     love\n",
              "4                                  i am feeling grouchy    anger\n",
              "...                                                 ...      ...\n",
              "1995  im having ssa examination tomorrow in the morn...  sadness\n",
              "1996  i constantly worry about their fight against n...      joy\n",
              "1997  i feel its important to share this info for th...      joy\n",
              "1998  i truly feel that if you are passionate enough...      joy\n",
              "1999  i feel like i just wanna buy any cute make up ...      joy\n",
              "\n",
              "[20000 rows x 2 columns]"
            ],
            "text/html": [
              "\n",
              "  <div id=\"df-ba8c2f75-966b-422e-a274-d8c69fcc498b\">\n",
              "    <div class=\"colab-df-container\">\n",
              "      <div>\n",
              "<style scoped>\n",
              "    .dataframe tbody tr th:only-of-type {\n",
              "        vertical-align: middle;\n",
              "    }\n",
              "\n",
              "    .dataframe tbody tr th {\n",
              "        vertical-align: top;\n",
              "    }\n",
              "\n",
              "    .dataframe thead th {\n",
              "        text-align: right;\n",
              "    }\n",
              "</style>\n",
              "<table border=\"1\" class=\"dataframe\">\n",
              "  <thead>\n",
              "    <tr style=\"text-align: right;\">\n",
              "      <th></th>\n",
              "      <th>Sentence</th>\n",
              "      <th>Emotion</th>\n",
              "    </tr>\n",
              "  </thead>\n",
              "  <tbody>\n",
              "    <tr>\n",
              "      <th>0</th>\n",
              "      <td>i didnt feel humiliated</td>\n",
              "      <td>sadness</td>\n",
              "    </tr>\n",
              "    <tr>\n",
              "      <th>1</th>\n",
              "      <td>i can go from feeling so hopeless to so damned...</td>\n",
              "      <td>sadness</td>\n",
              "    </tr>\n",
              "    <tr>\n",
              "      <th>2</th>\n",
              "      <td>im grabbing a minute to post i feel greedy wrong</td>\n",
              "      <td>anger</td>\n",
              "    </tr>\n",
              "    <tr>\n",
              "      <th>3</th>\n",
              "      <td>i am ever feeling nostalgic about the fireplac...</td>\n",
              "      <td>love</td>\n",
              "    </tr>\n",
              "    <tr>\n",
              "      <th>4</th>\n",
              "      <td>i am feeling grouchy</td>\n",
              "      <td>anger</td>\n",
              "    </tr>\n",
              "    <tr>\n",
              "      <th>...</th>\n",
              "      <td>...</td>\n",
              "      <td>...</td>\n",
              "    </tr>\n",
              "    <tr>\n",
              "      <th>1995</th>\n",
              "      <td>im having ssa examination tomorrow in the morn...</td>\n",
              "      <td>sadness</td>\n",
              "    </tr>\n",
              "    <tr>\n",
              "      <th>1996</th>\n",
              "      <td>i constantly worry about their fight against n...</td>\n",
              "      <td>joy</td>\n",
              "    </tr>\n",
              "    <tr>\n",
              "      <th>1997</th>\n",
              "      <td>i feel its important to share this info for th...</td>\n",
              "      <td>joy</td>\n",
              "    </tr>\n",
              "    <tr>\n",
              "      <th>1998</th>\n",
              "      <td>i truly feel that if you are passionate enough...</td>\n",
              "      <td>joy</td>\n",
              "    </tr>\n",
              "    <tr>\n",
              "      <th>1999</th>\n",
              "      <td>i feel like i just wanna buy any cute make up ...</td>\n",
              "      <td>joy</td>\n",
              "    </tr>\n",
              "  </tbody>\n",
              "</table>\n",
              "<p>20000 rows × 2 columns</p>\n",
              "</div>\n",
              "      <button class=\"colab-df-convert\" onclick=\"convertToInteractive('df-ba8c2f75-966b-422e-a274-d8c69fcc498b')\"\n",
              "              title=\"Convert this dataframe to an interactive table.\"\n",
              "              style=\"display:none;\">\n",
              "        \n",
              "  <svg xmlns=\"http://www.w3.org/2000/svg\" height=\"24px\"viewBox=\"0 0 24 24\"\n",
              "       width=\"24px\">\n",
              "    <path d=\"M0 0h24v24H0V0z\" fill=\"none\"/>\n",
              "    <path d=\"M18.56 5.44l.94 2.06.94-2.06 2.06-.94-2.06-.94-.94-2.06-.94 2.06-2.06.94zm-11 1L8.5 8.5l.94-2.06 2.06-.94-2.06-.94L8.5 2.5l-.94 2.06-2.06.94zm10 10l.94 2.06.94-2.06 2.06-.94-2.06-.94-.94-2.06-.94 2.06-2.06.94z\"/><path d=\"M17.41 7.96l-1.37-1.37c-.4-.4-.92-.59-1.43-.59-.52 0-1.04.2-1.43.59L10.3 9.45l-7.72 7.72c-.78.78-.78 2.05 0 2.83L4 21.41c.39.39.9.59 1.41.59.51 0 1.02-.2 1.41-.59l7.78-7.78 2.81-2.81c.8-.78.8-2.07 0-2.86zM5.41 20L4 18.59l7.72-7.72 1.47 1.35L5.41 20z\"/>\n",
              "  </svg>\n",
              "      </button>\n",
              "      \n",
              "  <style>\n",
              "    .colab-df-container {\n",
              "      display:flex;\n",
              "      flex-wrap:wrap;\n",
              "      gap: 12px;\n",
              "    }\n",
              "\n",
              "    .colab-df-convert {\n",
              "      background-color: #E8F0FE;\n",
              "      border: none;\n",
              "      border-radius: 50%;\n",
              "      cursor: pointer;\n",
              "      display: none;\n",
              "      fill: #1967D2;\n",
              "      height: 32px;\n",
              "      padding: 0 0 0 0;\n",
              "      width: 32px;\n",
              "    }\n",
              "\n",
              "    .colab-df-convert:hover {\n",
              "      background-color: #E2EBFA;\n",
              "      box-shadow: 0px 1px 2px rgba(60, 64, 67, 0.3), 0px 1px 3px 1px rgba(60, 64, 67, 0.15);\n",
              "      fill: #174EA6;\n",
              "    }\n",
              "\n",
              "    [theme=dark] .colab-df-convert {\n",
              "      background-color: #3B4455;\n",
              "      fill: #D2E3FC;\n",
              "    }\n",
              "\n",
              "    [theme=dark] .colab-df-convert:hover {\n",
              "      background-color: #434B5C;\n",
              "      box-shadow: 0px 1px 3px 1px rgba(0, 0, 0, 0.15);\n",
              "      filter: drop-shadow(0px 1px 2px rgba(0, 0, 0, 0.3));\n",
              "      fill: #FFFFFF;\n",
              "    }\n",
              "  </style>\n",
              "\n",
              "      <script>\n",
              "        const buttonEl =\n",
              "          document.querySelector('#df-ba8c2f75-966b-422e-a274-d8c69fcc498b button.colab-df-convert');\n",
              "        buttonEl.style.display =\n",
              "          google.colab.kernel.accessAllowed ? 'block' : 'none';\n",
              "\n",
              "        async function convertToInteractive(key) {\n",
              "          const element = document.querySelector('#df-ba8c2f75-966b-422e-a274-d8c69fcc498b');\n",
              "          const dataTable =\n",
              "            await google.colab.kernel.invokeFunction('convertToInteractive',\n",
              "                                                     [key], {});\n",
              "          if (!dataTable) return;\n",
              "\n",
              "          const docLinkHtml = 'Like what you see? Visit the ' +\n",
              "            '<a target=\"_blank\" href=https://colab.research.google.com/notebooks/data_table.ipynb>data table notebook</a>'\n",
              "            + ' to learn more about interactive tables.';\n",
              "          element.innerHTML = '';\n",
              "          dataTable['output_type'] = 'display_data';\n",
              "          await google.colab.output.renderOutput(dataTable, element);\n",
              "          const docLink = document.createElement('div');\n",
              "          docLink.innerHTML = docLinkHtml;\n",
              "          element.appendChild(docLink);\n",
              "        }\n",
              "      </script>\n",
              "    </div>\n",
              "  </div>\n",
              "  "
            ]
          },
          "metadata": {},
          "execution_count": 11
        }
      ]
    },
    {
      "cell_type": "code",
      "source": [
        "max_text_len = 0\n",
        "for index, row in EmotionData.iterrows():\n",
        "    max_text_len = max(max_text_len, len(row['Sentence'].split()))"
      ],
      "metadata": {
        "id": "9AhpduxX1Jtn"
      },
      "execution_count": null,
      "outputs": []
    },
    {
      "cell_type": "code",
      "source": [
        "max_text_len"
      ],
      "metadata": {
        "colab": {
          "base_uri": "https://localhost:8080/"
        },
        "id": "eV2liatC2cmB",
        "outputId": "5f35bf88-b6b5-463e-b28a-08417bb5ab23"
      },
      "execution_count": null,
      "outputs": [
        {
          "output_type": "execute_result",
          "data": {
            "text/plain": [
              "66"
            ]
          },
          "metadata": {},
          "execution_count": 13
        }
      ]
    },
    {
      "cell_type": "markdown",
      "source": [
        "Distribution of Labels in the Dataset"
      ],
      "metadata": {
        "id": "ejdoVJ-LWcxL"
      }
    },
    {
      "cell_type": "code",
      "source": [
        "print(EmotionData[['Emotion']].value_counts())\n",
        "sns.countplot(x='Emotion',data=EmotionData)"
      ],
      "metadata": {
        "colab": {
          "base_uri": "https://localhost:8080/",
          "height": 449
        },
        "id": "UYjcHQDAPq47",
        "outputId": "98f19262-2af6-48fc-c343-34feaf89241a"
      },
      "execution_count": null,
      "outputs": [
        {
          "output_type": "stream",
          "name": "stdout",
          "text": [
            "Emotion \n",
            "joy         6761\n",
            "sadness     5797\n",
            "anger       2709\n",
            "fear        2373\n",
            "love        1641\n",
            "surprise     719\n",
            "dtype: int64\n"
          ]
        },
        {
          "output_type": "execute_result",
          "data": {
            "text/plain": [
              "<matplotlib.axes._subplots.AxesSubplot at 0x7fe1cb591e50>"
            ]
          },
          "metadata": {},
          "execution_count": 14
        },
        {
          "output_type": "display_data",
          "data": {
            "text/plain": [
              "<Figure size 432x288 with 1 Axes>"
            ],
            "image/png": "[encoded data removed]"
          },
          "metadata": {
            "needs_background": "light"
          }
        }
      ]
    },
    {
      "cell_type": "markdown",
      "source": [
        "if length of the sentence is correlated to the emotion"
      ],
      "metadata": {
        "id": "hLQIJX13TLJF"
      }
    },
    {
      "cell_type": "code",
      "source": [
        "\n",
        "EmotionData['SentenceLength'] = EmotionData['Sentence'].apply(lambda x: len(x.split()))\n",
        "sns.boxplot(x='Emotion',y='SentenceLength',data=EmotionData)"
      ],
      "metadata": {
        "colab": {
          "base_uri": "https://localhost:8080/",
          "height": 316
        },
        "id": "-f65qlEflyZd",
        "outputId": "32b9010c-8995-43b1-f2c4-f6ef83fcfde9"
      },
      "execution_count": null,
      "outputs": [
        {
          "output_type": "execute_result",
          "data": {
            "text/plain": [
              "<matplotlib.axes._subplots.AxesSubplot at 0x7fe1cb8fb0d0>"
            ]
          },
          "metadata": {},
          "execution_count": 15
        },
        {
          "output_type": "display_data",
          "data": {
            "text/plain": [
              "<Figure size 432x288 with 1 Axes>"
            ],
            "image/png": "[encoded data removed]"
          },
          "metadata": {
            "needs_background": "light"
          }
        }
      ]
    },
    {
      "cell_type": "code",
      "source": [
        "factor = pd.factorize(EmotionData['Emotion'])\n",
        "EmotionData.Emotion = factor[0]\n",
        "Ydata = factor[0]\n",
        "definitions = factor[1]"
      ],
      "metadata": {
        "id": "v4WnBHgrj6qw"
      },
      "execution_count": null,
      "outputs": []
    },
    {
      "cell_type": "code",
      "source": [
        "reversefactor = dict(zip(range(6),definitions))"
      ],
      "metadata": {
        "id": "7miJgjrGn4-2"
      },
      "execution_count": null,
      "outputs": []
    },
    {
      "cell_type": "markdown",
      "source": [
        "Adding lexicon data"
      ],
      "metadata": {
        "id": "4MyDULprHeEz"
      }
    },
    {
      "cell_type": "code",
      "source": [
        "# listoftotalcounts = []\n",
        "# for i in EmotionData['Sentence']:\n",
        "#   alllexiconscounts = []\n",
        "#   noofpositivecounts = 0\n",
        "#   noofnegativecounts = 0\n",
        "#   noofangercounts = 0\n",
        "#   nooffearcounts = 0\n",
        "#   noofjoycounts = 0\n",
        "#   noofsadnesscounts = 0\n",
        "#   noofsurprisecounts = 0\n",
        "\n",
        "#   for j in i.split(' '):\n",
        "#     if j in negativelexicon:\n",
        "#       noofnegativecounts += 1\n",
        "#     if j in positivelexicon:\n",
        "#       noofpositivecounts += 1\n",
        "#     if j in AngerLexicon:\n",
        "#       noofangercounts += 1\n",
        "#     if j in fearlexicon:\n",
        "#       nooffearcounts += 1\n",
        "#     if j in joylexicon:\n",
        "#       noofjoycounts += 1\n",
        "#     if j in sadnesslexicon:\n",
        "#       noofsadnesscounts += 1\n",
        "#     if j in surpriselexicon:\n",
        "#       noofsurprisecounts += 1          \n",
        "\n",
        "#   alllexiconscounts.append(noofpositivecounts)\n",
        "#   alllexiconscounts.append(noofnegativecounts)\n",
        "#   alllexiconscounts.append(noofangercounts)\n",
        "#   alllexiconscounts.append(nooffearcounts)\n",
        "#   alllexiconscounts.append(noofjoycounts)\n",
        "#   alllexiconscounts.append(noofsadnesscounts)\n",
        "#   alllexiconscounts.append(noofsurprisecounts)\n",
        "#   listoftotalcounts.append(alllexiconscounts)"
      ],
      "metadata": {
        "id": "44ecOZvVHi3e"
      },
      "execution_count": null,
      "outputs": []
    },
    {
      "cell_type": "code",
      "source": [
        "# listoftotalcounts = np.array(listoftotalcounts)"
      ],
      "metadata": {
        "id": "w2hk5MhPJqa3"
      },
      "execution_count": null,
      "outputs": []
    },
    {
      "cell_type": "code",
      "source": [
        "# listoftotalcounts.shape"
      ],
      "metadata": {
        "colab": {
          "base_uri": "https://localhost:8080/"
        },
        "id": "vzs1rpqrKFov",
        "outputId": "325ca588-dee7-46d5-e4c4-b85575ba217a"
      },
      "execution_count": null,
      "outputs": [
        {
          "output_type": "execute_result",
          "data": {
            "text/plain": [
              "(20000, 2)"
            ]
          },
          "metadata": {},
          "execution_count": 10
        }
      ]
    },
    {
      "cell_type": "code",
      "source": [
        "Xdata = EmotionData[[\"Sentence\"]].to_numpy()\n",
        "Xdata = Xdata.flatten()\n",
        "Xdata.shape\n",
        "Xdata = Xdata.reshape(len(Xdata),1)"
      ],
      "metadata": {
        "id": "6FbKhWfXIeaR"
      },
      "execution_count": null,
      "outputs": []
    },
    {
      "cell_type": "code",
      "source": [
        "Xdata.shape"
      ],
      "metadata": {
        "colab": {
          "base_uri": "https://localhost:8080/"
        },
        "id": "Mr_VAoZDbHuY",
        "outputId": "00bc9d5e-256c-435f-ef9a-105f8c5bb6f1"
      },
      "execution_count": null,
      "outputs": [
        {
          "output_type": "execute_result",
          "data": {
            "text/plain": [
              "(20000, 1)"
            ]
          },
          "metadata": {},
          "execution_count": 19
        }
      ]
    },
    {
      "cell_type": "code",
      "source": [
        "# Xdata = np.concatenate((Xdata, listoftotalcounts), axis=1)"
      ],
      "metadata": {
        "id": "BXiNNMcAKYbc"
      },
      "execution_count": null,
      "outputs": []
    },
    {
      "cell_type": "markdown",
      "source": [
        "Splitting the Data into validaiton and test set"
      ],
      "metadata": {
        "id": "zs4x1J4rLTrH"
      }
    },
    {
      "cell_type": "code",
      "source": [
        "X_train, X_test, y_train, y_test = train_test_split(Xdata, EmotionData['Emotion'], test_size=0.1, random_state=42)"
      ],
      "metadata": {
        "id": "sw4TRyieW7lb"
      },
      "execution_count": null,
      "outputs": []
    },
    {
      "cell_type": "code",
      "source": [
        "X_train, X_val, y_train, y_val = train_test_split(X_train, y_train, test_size=0.11, random_state=42)"
      ],
      "metadata": {
        "id": "aSlOyFnmFgsT"
      },
      "execution_count": null,
      "outputs": []
    },
    {
      "cell_type": "markdown",
      "source": [
        "Doing over sampling on the Train data only"
      ],
      "metadata": {
        "id": "SS0MRwRCLYZZ"
      }
    },
    {
      "cell_type": "code",
      "source": [
        "X_traindataframe = pd.DataFrame(X_train,columns=[\"Sentence\"])"
      ],
      "metadata": {
        "id": "Fk7Rh93EgB75"
      },
      "execution_count": null,
      "outputs": []
    },
    {
      "cell_type": "code",
      "source": [
        "X_traindataframe"
      ],
      "metadata": {
        "colab": {
          "base_uri": "https://localhost:8080/",
          "height": 433
        },
        "id": "j600FC_ig_G6",
        "outputId": "56d811c6-c8e3-4d63-dba9-6c44a4d7336a"
      },
      "execution_count": null,
      "outputs": [
        {
          "output_type": "execute_result",
          "data": {
            "text/plain": [
              "                                                Sentence\n",
              "0      i feel as though my descriptions are skimmable...\n",
              "1      i like to feel that is exactly what i do for m...\n",
              "2      i feel that im most amazed still by silent kni...\n",
              "3      i suppose i felt odd and different too and lik...\n",
              "4      i had written a prayer in my journal that morn...\n",
              "...                                                  ...\n",
              "16015  i find that i have so much to blog whenever i ...\n",
              "16016  i am also noticing that i can only handle so m...\n",
              "16017  i had no idea i was giving off this vibe but i...\n",
              "16018  i feel depressed or even short tempered some days\n",
              "16019  i also got some very nice condiment type press...\n",
              "\n",
              "[16020 rows x 1 columns]"
            ],
            "text/html": [
              "\n",
              "  <div id=\"df-a0490e77-dd93-4aca-8948-80bf489fd327\">\n",
              "    <div class=\"colab-df-container\">\n",
              "      <div>\n",
              "<style scoped>\n",
              "    .dataframe tbody tr th:only-of-type {\n",
              "        vertical-align: middle;\n",
              "    }\n",
              "\n",
              "    .dataframe tbody tr th {\n",
              "        vertical-align: top;\n",
              "    }\n",
              "\n",
              "    .dataframe thead th {\n",
              "        text-align: right;\n",
              "    }\n",
              "</style>\n",
              "<table border=\"1\" class=\"dataframe\">\n",
              "  <thead>\n",
              "    <tr style=\"text-align: right;\">\n",
              "      <th></th>\n",
              "      <th>Sentence</th>\n",
              "    </tr>\n",
              "  </thead>\n",
              "  <tbody>\n",
              "    <tr>\n",
              "      <th>0</th>\n",
              "      <td>i feel as though my descriptions are skimmable...</td>\n",
              "    </tr>\n",
              "    <tr>\n",
              "      <th>1</th>\n",
              "      <td>i like to feel that is exactly what i do for m...</td>\n",
              "    </tr>\n",
              "    <tr>\n",
              "      <th>2</th>\n",
              "      <td>i feel that im most amazed still by silent kni...</td>\n",
              "    </tr>\n",
              "    <tr>\n",
              "      <th>3</th>\n",
              "      <td>i suppose i felt odd and different too and lik...</td>\n",
              "    </tr>\n",
              "    <tr>\n",
              "      <th>4</th>\n",
              "      <td>i had written a prayer in my journal that morn...</td>\n",
              "    </tr>\n",
              "    <tr>\n",
              "      <th>...</th>\n",
              "      <td>...</td>\n",
              "    </tr>\n",
              "    <tr>\n",
              "      <th>16015</th>\n",
              "      <td>i find that i have so much to blog whenever i ...</td>\n",
              "    </tr>\n",
              "    <tr>\n",
              "      <th>16016</th>\n",
              "      <td>i am also noticing that i can only handle so m...</td>\n",
              "    </tr>\n",
              "    <tr>\n",
              "      <th>16017</th>\n",
              "      <td>i had no idea i was giving off this vibe but i...</td>\n",
              "    </tr>\n",
              "    <tr>\n",
              "      <th>16018</th>\n",
              "      <td>i feel depressed or even short tempered some days</td>\n",
              "    </tr>\n",
              "    <tr>\n",
              "      <th>16019</th>\n",
              "      <td>i also got some very nice condiment type press...</td>\n",
              "    </tr>\n",
              "  </tbody>\n",
              "</table>\n",
              "<p>16020 rows × 1 columns</p>\n",
              "</div>\n",
              "      <button class=\"colab-df-convert\" onclick=\"convertToInteractive('df-a0490e77-dd93-4aca-8948-80bf489fd327')\"\n",
              "              title=\"Convert this dataframe to an interactive table.\"\n",
              "              style=\"display:none;\">\n",
              "        \n",
              "  <svg xmlns=\"http://www.w3.org/2000/svg\" height=\"24px\"viewBox=\"0 0 24 24\"\n",
              "       width=\"24px\">\n",
              "    <path d=\"M0 0h24v24H0V0z\" fill=\"none\"/>\n",
              "    <path d=\"M18.56 5.44l.94 2.06.94-2.06 2.06-.94-2.06-.94-.94-2.06-.94 2.06-2.06.94zm-11 1L8.5 8.5l.94-2.06 2.06-.94-2.06-.94L8.5 2.5l-.94 2.06-2.06.94zm10 10l.94 2.06.94-2.06 2.06-.94-2.06-.94-.94-2.06-.94 2.06-2.06.94z\"/><path d=\"M17.41 7.96l-1.37-1.37c-.4-.4-.92-.59-1.43-.59-.52 0-1.04.2-1.43.59L10.3 9.45l-7.72 7.72c-.78.78-.78 2.05 0 2.83L4 21.41c.39.39.9.59 1.41.59.51 0 1.02-.2 1.41-.59l7.78-7.78 2.81-2.81c.8-.78.8-2.07 0-2.86zM5.41 20L4 18.59l7.72-7.72 1.47 1.35L5.41 20z\"/>\n",
              "  </svg>\n",
              "      </button>\n",
              "      \n",
              "  <style>\n",
              "    .colab-df-container {\n",
              "      display:flex;\n",
              "      flex-wrap:wrap;\n",
              "      gap: 12px;\n",
              "    }\n",
              "\n",
              "    .colab-df-convert {\n",
              "      background-color: #E8F0FE;\n",
              "      border: none;\n",
              "      border-radius: 50%;\n",
              "      cursor: pointer;\n",
              "      display: none;\n",
              "      fill: #1967D2;\n",
              "      height: 32px;\n",
              "      padding: 0 0 0 0;\n",
              "      width: 32px;\n",
              "    }\n",
              "\n",
              "    .colab-df-convert:hover {\n",
              "      background-color: #E2EBFA;\n",
              "      box-shadow: 0px 1px 2px rgba(60, 64, 67, 0.3), 0px 1px 3px 1px rgba(60, 64, 67, 0.15);\n",
              "      fill: #174EA6;\n",
              "    }\n",
              "\n",
              "    [theme=dark] .colab-df-convert {\n",
              "      background-color: #3B4455;\n",
              "      fill: #D2E3FC;\n",
              "    }\n",
              "\n",
              "    [theme=dark] .colab-df-convert:hover {\n",
              "      background-color: #434B5C;\n",
              "      box-shadow: 0px 1px 3px 1px rgba(0, 0, 0, 0.15);\n",
              "      filter: drop-shadow(0px 1px 2px rgba(0, 0, 0, 0.3));\n",
              "      fill: #FFFFFF;\n",
              "    }\n",
              "  </style>\n",
              "\n",
              "      <script>\n",
              "        const buttonEl =\n",
              "          document.querySelector('#df-a0490e77-dd93-4aca-8948-80bf489fd327 button.colab-df-convert');\n",
              "        buttonEl.style.display =\n",
              "          google.colab.kernel.accessAllowed ? 'block' : 'none';\n",
              "\n",
              "        async function convertToInteractive(key) {\n",
              "          const element = document.querySelector('#df-a0490e77-dd93-4aca-8948-80bf489fd327');\n",
              "          const dataTable =\n",
              "            await google.colab.kernel.invokeFunction('convertToInteractive',\n",
              "                                                     [key], {});\n",
              "          if (!dataTable) return;\n",
              "\n",
              "          const docLinkHtml = 'Like what you see? Visit the ' +\n",
              "            '<a target=\"_blank\" href=https://colab.research.google.com/notebooks/data_table.ipynb>data table notebook</a>'\n",
              "            + ' to learn more about interactive tables.';\n",
              "          element.innerHTML = '';\n",
              "          dataTable['output_type'] = 'display_data';\n",
              "          await google.colab.output.renderOutput(dataTable, element);\n",
              "          const docLink = document.createElement('div');\n",
              "          docLink.innerHTML = docLinkHtml;\n",
              "          element.appendChild(docLink);\n",
              "        }\n",
              "      </script>\n",
              "    </div>\n",
              "  </div>\n",
              "  "
            ]
          },
          "metadata": {},
          "execution_count": 23
        }
      ]
    },
    {
      "cell_type": "code",
      "source": [
        "ros = RandomOverSampler(random_state=0)\n",
        "X_trainresampled, y_trainresampled = ros.fit_resample(X_traindataframe,y_train)"
      ],
      "metadata": {
        "id": "b6Prlb0NdSpw"
      },
      "execution_count": null,
      "outputs": []
    },
    {
      "cell_type": "code",
      "source": [
        "X_trainresampled = X_trainresampled.to_numpy()"
      ],
      "metadata": {
        "id": "v-_uiRq6NAPj"
      },
      "execution_count": null,
      "outputs": []
    },
    {
      "cell_type": "markdown",
      "source": [
        "Converting the XTrain input into binarized bag of words"
      ],
      "metadata": {
        "id": "-Pa6h16SLo01"
      }
    },
    {
      "cell_type": "code",
      "source": [
        "vectorizer = CountVectorizer(stop_words='english',binary=True)\n",
        "#vectorizer = CountVectorizer(stop_words='english')"
      ],
      "metadata": {
        "id": "7SD0bo_UOQKr"
      },
      "execution_count": null,
      "outputs": []
    },
    {
      "cell_type": "code",
      "source": [
        "vectorizer.fit(X_trainresampled[:,0])\n",
        "bagtrain = vectorizer.transform(X_trainresampled[:,0])"
      ],
      "metadata": {
        "id": "wjFhiNjsOdlW"
      },
      "execution_count": null,
      "outputs": []
    },
    {
      "cell_type": "code",
      "source": [
        "# X_trainresampled = np.concatenate((bagtrain.toarray(), X_trainresampled[:,1:]), axis=1)\n",
        "X_trainresampled = bagtrain.toarray()"
      ],
      "metadata": {
        "id": "Oii7DP13PGS6"
      },
      "execution_count": null,
      "outputs": []
    },
    {
      "cell_type": "code",
      "source": [
        "X_trainresampled.shape"
      ],
      "metadata": {
        "colab": {
          "base_uri": "https://localhost:8080/"
        },
        "id": "YU-2GLZFVS39",
        "outputId": "0d4b0d11-df4c-4818-d419-68961c166285"
      },
      "execution_count": null,
      "outputs": [
        {
          "output_type": "execute_result",
          "data": {
            "text/plain": [
              "(32298, 14815)"
            ]
          },
          "metadata": {},
          "execution_count": 29
        }
      ]
    },
    {
      "cell_type": "markdown",
      "source": [
        "Converting the X_Val and X_test into binarized bag of words and y_test and y_val back to string values"
      ],
      "metadata": {
        "id": "KUc5e7lHRjNw"
      }
    },
    {
      "cell_type": "code",
      "source": [
        "X_val.shape"
      ],
      "metadata": {
        "colab": {
          "base_uri": "https://localhost:8080/"
        },
        "id": "Zyj46KinaPYA",
        "outputId": "33426aaa-68c1-4adb-8575-3f3817b126ee"
      },
      "execution_count": null,
      "outputs": [
        {
          "output_type": "execute_result",
          "data": {
            "text/plain": [
              "(1980, 1)"
            ]
          },
          "metadata": {},
          "execution_count": 30
        }
      ]
    },
    {
      "cell_type": "code",
      "source": [
        "sentencesval = X_val[:,0]\n",
        "bagval = vectorizer.transform(sentencesval)\n",
        "# X_val = np.concatenate((bagval.toarray(), X_val[:,1:]), axis=1)\n",
        "X_valBinarized = bagval.toarray()"
      ],
      "metadata": {
        "id": "1h-RjIcfRo3d"
      },
      "execution_count": null,
      "outputs": []
    },
    {
      "cell_type": "code",
      "source": [
        "X_valBinarized.shape"
      ],
      "metadata": {
        "colab": {
          "base_uri": "https://localhost:8080/"
        },
        "id": "a6ekLSmXSAt-",
        "outputId": "5549d552-67db-41f8-d446-99f46c8acd1a"
      },
      "execution_count": null,
      "outputs": [
        {
          "output_type": "execute_result",
          "data": {
            "text/plain": [
              "(1980, 14815)"
            ]
          },
          "metadata": {},
          "execution_count": 32
        }
      ]
    },
    {
      "cell_type": "code",
      "source": [
        "sentencestest = X_test[:,0]\n",
        "bagtest = vectorizer.transform(sentencestest)\n",
        "X_testBinarized = np.concatenate((bagtest.toarray(), X_test[:,1:]), axis=1)"
      ],
      "metadata": {
        "id": "4V8Y7zFZSEpV"
      },
      "execution_count": null,
      "outputs": []
    },
    {
      "cell_type": "code",
      "source": [
        "X_testBinarized.shape"
      ],
      "metadata": {
        "colab": {
          "base_uri": "https://localhost:8080/"
        },
        "id": "IUeGcOGESPDa",
        "outputId": "8ffaf578-40b3-4355-8982-9a105caa51dd"
      },
      "execution_count": null,
      "outputs": [
        {
          "output_type": "execute_result",
          "data": {
            "text/plain": [
              "(2000, 14815)"
            ]
          },
          "metadata": {},
          "execution_count": 34
        }
      ]
    },
    {
      "cell_type": "code",
      "source": [
        "y_valconverted = np.vectorize(reversefactor.get)(y_val)\n",
        "y_testconverted = np.vectorize(reversefactor.get)(y_test)"
      ],
      "metadata": {
        "id": "TYPQ5H12obcg"
      },
      "execution_count": null,
      "outputs": []
    },
    {
      "cell_type": "markdown",
      "source": [
        "# Training the Model Random Forest"
      ],
      "metadata": {
        "id": "hkw6jrGjSaPE"
      }
    },
    {
      "cell_type": "code",
      "source": [
        "classifier = RandomForestClassifier(n_estimators = 100, criterion = 'entropy', random_state = 42)\n",
        "classifier.fit(X_trainresampled, y_trainresampled)"
      ],
      "metadata": {
        "id": "3pfDN7GniVVs",
        "colab": {
          "base_uri": "https://localhost:8080/"
        },
        "outputId": "d93fe0ce-bae8-4f5f-acb0-ed2e928abb6a"
      },
      "execution_count": null,
      "outputs": [
        {
          "output_type": "execute_result",
          "data": {
            "text/plain": [
              "RandomForestClassifier(criterion='entropy', random_state=42)"
            ]
          },
          "metadata": {},
          "execution_count": 37
        }
      ]
    },
    {
      "cell_type": "markdown",
      "source": [
        "Random Forest Model Result on Validation Set"
      ],
      "metadata": {
        "id": "mZit-aBmTJ_u"
      }
    },
    {
      "cell_type": "code",
      "source": [
        "y_pred_val = classifier.predict(X_valBinarized)"
      ],
      "metadata": {
        "id": "yjpbdCjPlQlQ"
      },
      "execution_count": null,
      "outputs": []
    },
    {
      "cell_type": "code",
      "source": [
        "y_pred_val = np.vectorize(reversefactor.get)(y_pred_val)"
      ],
      "metadata": {
        "id": "ee03KdXe7_YR"
      },
      "execution_count": null,
      "outputs": []
    },
    {
      "cell_type": "code",
      "source": [
        "print(classification_report(y_valconverted, y_pred_val))"
      ],
      "metadata": {
        "id": "pP2jmYdH8Hd2",
        "colab": {
          "base_uri": "https://localhost:8080/"
        },
        "outputId": "4261f3cf-0aed-4d92-c798-8031c92abb8c"
      },
      "execution_count": null,
      "outputs": [
        {
          "output_type": "stream",
          "name": "stdout",
          "text": [
            "              precision    recall  f1-score   support\n",
            "\n",
            "       anger       0.81      0.92      0.86       227\n",
            "        fear       0.84      0.80      0.82       232\n",
            "         joy       0.94      0.83      0.88       703\n",
            "        love       0.70      0.85      0.77       168\n",
            "     sadness       0.89      0.90      0.89       577\n",
            "    surprise       0.66      0.84      0.73        73\n",
            "\n",
            "    accuracy                           0.86      1980\n",
            "   macro avg       0.80      0.86      0.83      1980\n",
            "weighted avg       0.87      0.86      0.86      1980\n",
            "\n"
          ]
        }
      ]
    },
    {
      "cell_type": "code",
      "source": [
        "confusion_matrix(y_valconverted, y_pred_val)"
      ],
      "metadata": {
        "colab": {
          "base_uri": "https://localhost:8080/"
        },
        "id": "80DMdSt5aXtP",
        "outputId": "61fa006f-ad57-4e60-ca19-c0169c3651d6"
      },
      "execution_count": null,
      "outputs": [
        {
          "output_type": "execute_result",
          "data": {
            "text/plain": [
              "array([[209,   5,   2,   2,   8,   1],\n",
              "       [ 15, 185,   3,   3,  12,  14],\n",
              "       [ 15,   5, 581,  49,  43,  10],\n",
              "       [  1,   1,  19, 143,   4,   0],\n",
              "       [ 19,  13,  11,   8, 519,   7],\n",
              "       [  0,  11,   1,   0,   0,  61]])"
            ]
          },
          "metadata": {},
          "execution_count": 42
        }
      ]
    },
    {
      "cell_type": "markdown",
      "source": [
        "Random Forest Model Result on Test Set"
      ],
      "metadata": {
        "id": "B1k1LctUVziQ"
      }
    },
    {
      "cell_type": "code",
      "source": [
        "y_pred_test = classifier.predict(X_testBinarized)"
      ],
      "metadata": {
        "id": "VGb04GE5V1U4"
      },
      "execution_count": null,
      "outputs": []
    },
    {
      "cell_type": "code",
      "source": [
        "y_pred_test = np.vectorize(reversefactor.get)(y_pred_test)"
      ],
      "metadata": {
        "id": "Er_ctZoiV78Z"
      },
      "execution_count": null,
      "outputs": []
    },
    {
      "cell_type": "code",
      "source": [
        "print(classification_report(y_testconverted, y_pred_test))"
      ],
      "metadata": {
        "id": "ZdZ18vgnWBLO",
        "colab": {
          "base_uri": "https://localhost:8080/"
        },
        "outputId": "d5bacea7-7ac5-496e-bc5c-127d3cd2af3b"
      },
      "execution_count": null,
      "outputs": [
        {
          "output_type": "stream",
          "name": "stdout",
          "text": [
            "              precision    recall  f1-score   support\n",
            "\n",
            "       anger       0.84      0.91      0.88       261\n",
            "        fear       0.82      0.80      0.81       231\n",
            "         joy       0.93      0.85      0.89       675\n",
            "        love       0.73      0.90      0.81       161\n",
            "     sadness       0.89      0.89      0.89       584\n",
            "    surprise       0.75      0.83      0.79        88\n",
            "\n",
            "    accuracy                           0.87      2000\n",
            "   macro avg       0.83      0.86      0.84      2000\n",
            "weighted avg       0.87      0.87      0.87      2000\n",
            "\n"
          ]
        }
      ]
    },
    {
      "cell_type": "markdown",
      "source": [
        "# Traning the Model Naive Bayes"
      ],
      "metadata": {
        "id": "RYheBCPlmfkj"
      }
    },
    {
      "cell_type": "code",
      "source": [
        "clfnb = MultinomialNB()\n",
        "clfnb.fit(X_trainresampled, y_trainresampled)"
      ],
      "metadata": {
        "colab": {
          "base_uri": "https://localhost:8080/"
        },
        "id": "vnchP5UWmh-Q",
        "outputId": "9457aacc-a6a0-44aa-dc6a-b923868e948d"
      },
      "execution_count": null,
      "outputs": [
        {
          "output_type": "execute_result",
          "data": {
            "text/plain": [
              "MultinomialNB()"
            ]
          },
          "metadata": {},
          "execution_count": 32
        }
      ]
    },
    {
      "cell_type": "markdown",
      "source": [
        "Naive Bayes Model Result on Validation Set"
      ],
      "metadata": {
        "id": "0inPDq-1mwiX"
      }
    },
    {
      "cell_type": "code",
      "source": [
        "y_pred_nbval = clfnb.predict(X_valBinarized)\n",
        "y_pred_nbval = np.vectorize(reversefactor.get)(y_pred_nbval)\n",
        "print(classification_report(y_valconverted, y_pred_nbval))"
      ],
      "metadata": {
        "colab": {
          "base_uri": "https://localhost:8080/"
        },
        "id": "wH53WzaCm2qh",
        "outputId": "1076b13f-dba7-420e-bd1f-aa09bf349430"
      },
      "execution_count": null,
      "outputs": [
        {
          "output_type": "stream",
          "name": "stdout",
          "text": [
            "              precision    recall  f1-score   support\n",
            "\n",
            "       anger       0.73      0.84      0.78       227\n",
            "        fear       0.76      0.78      0.77       232\n",
            "         joy       0.90      0.82      0.85       703\n",
            "        love       0.63      0.72      0.67       168\n",
            "     sadness       0.89      0.85      0.87       577\n",
            "    surprise       0.50      0.68      0.57        73\n",
            "\n",
            "    accuracy                           0.81      1980\n",
            "   macro avg       0.74      0.78      0.76      1980\n",
            "weighted avg       0.82      0.81      0.82      1980\n",
            "\n"
          ]
        }
      ]
    },
    {
      "cell_type": "markdown",
      "source": [
        "Naive Bayes Model Result on Test Set"
      ],
      "metadata": {
        "id": "Onfo5JhNnED9"
      }
    },
    {
      "cell_type": "code",
      "source": [
        "y_pred_nbtest = clfnb.predict(X_testBinarized)\n",
        "y_pred_nbtest = np.vectorize(reversefactor.get)(y_pred_nbtest)\n",
        "print(classification_report(y_testconverted, y_pred_nbtest))"
      ],
      "metadata": {
        "colab": {
          "base_uri": "https://localhost:8080/"
        },
        "id": "Tdn8yNw2nHmp",
        "outputId": "ab898544-bca2-41b7-fc7c-637d039e9ef2"
      },
      "execution_count": null,
      "outputs": [
        {
          "output_type": "stream",
          "name": "stdout",
          "text": [
            "              precision    recall  f1-score   support\n",
            "\n",
            "       anger       0.80      0.84      0.82       261\n",
            "        fear       0.72      0.79      0.76       231\n",
            "         joy       0.90      0.81      0.85       675\n",
            "        love       0.61      0.80      0.69       161\n",
            "     sadness       0.89      0.84      0.86       584\n",
            "    surprise       0.56      0.69      0.62        88\n",
            "\n",
            "    accuracy                           0.81      2000\n",
            "   macro avg       0.75      0.79      0.77      2000\n",
            "weighted avg       0.83      0.81      0.82      2000\n",
            "\n"
          ]
        }
      ]
    },
    {
      "cell_type": "markdown",
      "source": [
        "# Training the Model Logistic Regression"
      ],
      "metadata": {
        "id": "jfQYX0ck_LJo"
      }
    },
    {
      "cell_type": "code",
      "source": [
        "logreg = LogisticRegression()\n",
        "logreg.fit(X_trainresampled, y_trainresampled)"
      ],
      "metadata": {
        "colab": {
          "base_uri": "https://localhost:8080/"
        },
        "id": "FF1L90k8_ZY2",
        "outputId": "fb80b43d-17b5-4672-f261-c8d3d0a67178"
      },
      "execution_count": null,
      "outputs": [
        {
          "output_type": "stream",
          "name": "stderr",
          "text": [
            "/usr/local/lib/python3.8/dist-packages/sklearn/linear_model/_logistic.py:814: ConvergenceWarning: lbfgs failed to converge (status=1):\n",
            "STOP: TOTAL NO. of ITERATIONS REACHED LIMIT.\n",
            "\n",
            "Increase the number of iterations (max_iter) or scale the data as shown in:\n",
            "    https://scikit-learn.org/stable/modules/preprocessing.html\n",
            "Please also refer to the documentation for alternative solver options:\n",
            "    https://scikit-learn.org/stable/modules/linear_model.html#logistic-regression\n",
            "  n_iter_i = _check_optimize_result(\n"
          ]
        },
        {
          "output_type": "execute_result",
          "data": {
            "text/plain": [
              "LogisticRegression()"
            ]
          },
          "metadata": {},
          "execution_count": 35
        }
      ]
    },
    {
      "cell_type": "markdown",
      "source": [
        "Logistic Regression Model Result on Validation Set"
      ],
      "metadata": {
        "id": "uwQIUd6O_-UO"
      }
    },
    {
      "cell_type": "code",
      "source": [
        "y_pred_val_lr = logreg.predict(X_valBinarized)\n",
        "y_pred_val_lr = np.vectorize(reversefactor.get)(y_pred_val_lr)"
      ],
      "metadata": {
        "id": "V3PV6ucmAGl0"
      },
      "execution_count": null,
      "outputs": []
    },
    {
      "cell_type": "code",
      "source": [
        "print(classification_report(y_valconverted, y_pred_val_lr))"
      ],
      "metadata": {
        "colab": {
          "base_uri": "https://localhost:8080/"
        },
        "id": "RInyXjcQAasz",
        "outputId": "cf0aed93-7dae-4f98-f71e-fa074cd286a8"
      },
      "execution_count": null,
      "outputs": [
        {
          "output_type": "stream",
          "name": "stdout",
          "text": [
            "              precision    recall  f1-score   support\n",
            "\n",
            "       anger       0.87      0.93      0.90       227\n",
            "        fear       0.84      0.82      0.83       232\n",
            "         joy       0.95      0.89      0.92       703\n",
            "        love       0.75      0.88      0.81       168\n",
            "     sadness       0.93      0.90      0.92       577\n",
            "    surprise       0.68      0.92      0.78        73\n",
            "\n",
            "    accuracy                           0.89      1980\n",
            "   macro avg       0.84      0.89      0.86      1980\n",
            "weighted avg       0.90      0.89      0.89      1980\n",
            "\n"
          ]
        }
      ]
    },
    {
      "cell_type": "markdown",
      "source": [
        "Logistic Regression Model Result on Test Set"
      ],
      "metadata": {
        "id": "xpOjhwXmAfaW"
      }
    },
    {
      "cell_type": "code",
      "source": [
        "y_pred_test_lr = logreg.predict(X_testBinarized)\n",
        "y_pred_test_lr = np.vectorize(reversefactor.get)(y_pred_test_lr)"
      ],
      "metadata": {
        "id": "r6ckuO2EAnQv"
      },
      "execution_count": null,
      "outputs": []
    },
    {
      "cell_type": "code",
      "source": [
        "print(classification_report(y_testconverted, y_pred_test_lr))"
      ],
      "metadata": {
        "colab": {
          "base_uri": "https://localhost:8080/"
        },
        "id": "LelAHWWXAvXh",
        "outputId": "e75927b5-1d21-4321-9781-76fbe5cbaeb5"
      },
      "execution_count": null,
      "outputs": [
        {
          "output_type": "stream",
          "name": "stdout",
          "text": [
            "              precision    recall  f1-score   support\n",
            "\n",
            "       anger       0.87      0.92      0.89       261\n",
            "        fear       0.86      0.84      0.85       231\n",
            "         joy       0.93      0.90      0.92       675\n",
            "        love       0.77      0.89      0.82       161\n",
            "     sadness       0.95      0.90      0.93       584\n",
            "    surprise       0.73      0.89      0.80        88\n",
            "\n",
            "    accuracy                           0.90      2000\n",
            "   macro avg       0.85      0.89      0.87      2000\n",
            "weighted avg       0.90      0.90      0.90      2000\n",
            "\n"
          ]
        }
      ]
    },
    {
      "cell_type": "markdown",
      "source": [
        "# Neural Network Model"
      ],
      "metadata": {
        "id": "NZgoXs5cDxZ0"
      }
    },
    {
      "cell_type": "markdown",
      "source": [
        "Tokenzing the input"
      ],
      "metadata": {
        "id": "zmMZSbC1G8uR"
      }
    },
    {
      "cell_type": "code",
      "source": [
        "tokenizer = TreebankWordTokenizer()\n",
        "def TokenizeTheInput(x,tokenizer):\n",
        "  temp = []\n",
        "  for i in range(len(x)):\n",
        "    temptokens = tokenizer.tokenize(x.item(i))\n",
        "    temp.append(temptokens)\n",
        "  return temp"
      ],
      "metadata": {
        "id": "G5tFnobUEPdx"
      },
      "execution_count": null,
      "outputs": []
    },
    {
      "cell_type": "code",
      "source": [
        "X_traintokenized = TokenizeTheInput(X_train,tokenizer)\n",
        "# X_traintokenized = TokenizeTheInput(X_trainresampled,tokenizer)\n",
        "X_ValTokenized  =  TokenizeTheInput(X_val,tokenizer)\n",
        "X_TestTokenzied  =  TokenizeTheInput(X_test,tokenizer)"
      ],
      "metadata": {
        "id": "Z7hhqaCsFGI_"
      },
      "execution_count": null,
      "outputs": []
    },
    {
      "cell_type": "markdown",
      "source": [
        "Assigning Indexes to words"
      ],
      "metadata": {
        "id": "4-H_bPsXG-QC"
      }
    },
    {
      "cell_type": "code",
      "source": [
        "tokenizer = Tokenizer()\n",
        "tokenizer.fit_on_texts(X_traintokenized)\n",
        "X_trainIndex = tokenizer.texts_to_sequences(X_traintokenized)\n",
        "X_ValIndex = tokenizer.texts_to_sequences(X_ValTokenized)\n",
        "X_TestIndedx = tokenizer.texts_to_sequences(X_TestTokenzied)"
      ],
      "metadata": {
        "id": "TniertzlG7i7"
      },
      "execution_count": null,
      "outputs": []
    },
    {
      "cell_type": "markdown",
      "source": [
        "Padding the input of all the sets"
      ],
      "metadata": {
        "id": "VdaITuleHdEz"
      }
    },
    {
      "cell_type": "code",
      "source": [
        "vocab_size = len(tokenizer.word_index) + 1\n",
        "# maxlen = max_text_len\n",
        "maxlen = 100\n",
        "X_trainpadded = pad_sequences(X_trainIndex, padding='post', maxlen=maxlen)\n",
        "X_Valpadded = pad_sequences(X_ValIndex, padding='post', maxlen=maxlen)\n",
        "X_testpadded = pad_sequences(X_TestIndedx, padding='post', maxlen=maxlen)"
      ],
      "metadata": {
        "id": "O2bJ41lOHhrl"
      },
      "execution_count": null,
      "outputs": []
    },
    {
      "cell_type": "code",
      "source": [
        "X_trainpadded.shape"
      ],
      "metadata": {
        "colab": {
          "base_uri": "https://localhost:8080/"
        },
        "id": "bI0yut2UW00C",
        "outputId": "4414fb6b-32f0-414b-9744-cd33d7114635"
      },
      "execution_count": null,
      "outputs": [
        {
          "output_type": "execute_result",
          "data": {
            "text/plain": [
              "(16020, 100)"
            ]
          },
          "metadata": {},
          "execution_count": 50
        }
      ]
    },
    {
      "cell_type": "code",
      "source": [
        "vocab_size"
      ],
      "metadata": {
        "colab": {
          "base_uri": "https://localhost:8080/"
        },
        "id": "OfkU_CitKCTY",
        "outputId": "05d0b81d-1018-40e2-b0e7-4d77ecd672c6"
      },
      "execution_count": null,
      "outputs": [
        {
          "output_type": "execute_result",
          "data": {
            "text/plain": [
              "15134"
            ]
          },
          "metadata": {},
          "execution_count": 51
        }
      ]
    },
    {
      "cell_type": "markdown",
      "source": [
        "Creating the Embedding Matrix"
      ],
      "metadata": {
        "id": "GUSAgsfpJLP-"
      }
    },
    {
      "cell_type": "code",
      "source": [
        "embedding_matrix = zeros((vocab_size, 100))\n",
        "for word, index in tokenizer.word_index.items():\n",
        "    embedding_vector = embeddings_dictionary.get(word)\n",
        "    if embedding_vector is not None:\n",
        "        embedding_matrix[index] = embedding_vector"
      ],
      "metadata": {
        "id": "_9Zp6jB5J_K_"
      },
      "execution_count": null,
      "outputs": []
    },
    {
      "cell_type": "code",
      "source": [
        "embedding_matrix.shape"
      ],
      "metadata": {
        "colab": {
          "base_uri": "https://localhost:8080/"
        },
        "id": "G4DmCWRPNzUo",
        "outputId": "0154aecc-ea7b-4e20-e1bd-e7d4663fd6cd"
      },
      "execution_count": null,
      "outputs": [
        {
          "output_type": "execute_result",
          "data": {
            "text/plain": [
              "(15134, 100)"
            ]
          },
          "metadata": {},
          "execution_count": 53
        }
      ]
    },
    {
      "cell_type": "markdown",
      "source": [
        "Training the Normal Neural Network Model"
      ],
      "metadata": {
        "id": "xNgjjNNHOnmI"
      }
    },
    {
      "cell_type": "code",
      "source": [
        "modelNN = Sequential()\n",
        "embedding_layer = Embedding(vocab_size, 100, weights=[embedding_matrix], input_length=maxlen , embeddings_initializer = Constant(embedding_matrix))\n",
        "modelNN.add(embedding_layer)\n",
        "modelNN.add(Flatten())\n",
        "# modelNN.add(Dense(units=128, activation='relu'))\n",
        "# modelNN.add(Dense(units=64, activation='relu'))\n",
        "modelNN.add(Dense(6, activation='softmax'))\n",
        "\n",
        "opt = keras.optimizers.Adam(learning_rate=0.001)\n",
        "modelNN.compile(loss=\"sparse_categorical_crossentropy\",\n",
        "                optimizer=opt,metrics=[\"accuracy\"])\n",
        "\n",
        "historynormalNN = modelNN.fit(X_trainpadded, y_train,batch_size=16, epochs=10, verbose=1,validation_data = (X_Valpadded, y_val))"
      ],
      "metadata": {
        "colab": {
          "base_uri": "https://localhost:8080/"
        },
        "id": "BAVvEzFNOqty",
        "outputId": "7459d05c-2b06-4540-f241-5b7c3ef310a1"
      },
      "execution_count": null,
      "outputs": [
        {
          "output_type": "stream",
          "name": "stdout",
          "text": [
            "Epoch 1/10\n",
            "1002/1002 [==============================] - 22s 21ms/step - loss: 1.3784 - accuracy: 0.4952 - val_loss: 1.1688 - val_accuracy: 0.5934\n",
            "Epoch 2/10\n",
            "1002/1002 [==============================] - 22s 22ms/step - loss: 0.6643 - accuracy: 0.7863 - val_loss: 0.7649 - val_accuracy: 0.7480\n",
            "Epoch 3/10\n",
            "1002/1002 [==============================] - 21s 21ms/step - loss: 0.2828 - accuracy: 0.9275 - val_loss: 0.6241 - val_accuracy: 0.7980\n",
            "Epoch 4/10\n",
            "1002/1002 [==============================] - 22s 22ms/step - loss: 0.1324 - accuracy: 0.9725 - val_loss: 0.6494 - val_accuracy: 0.7990\n",
            "Epoch 5/10\n",
            "1002/1002 [==============================] - 22s 22ms/step - loss: 0.0741 - accuracy: 0.9854 - val_loss: 0.5894 - val_accuracy: 0.8182\n",
            "Epoch 6/10\n",
            "1002/1002 [==============================] - 22s 22ms/step - loss: 0.0476 - accuracy: 0.9908 - val_loss: 0.5763 - val_accuracy: 0.8253\n",
            "Epoch 7/10\n",
            "1002/1002 [==============================] - 21s 21ms/step - loss: 0.0388 - accuracy: 0.9929 - val_loss: 0.6069 - val_accuracy: 0.8242\n",
            "Epoch 8/10\n",
            "1002/1002 [==============================] - 21s 21ms/step - loss: 0.0339 - accuracy: 0.9941 - val_loss: 0.6664 - val_accuracy: 0.8182\n",
            "Epoch 9/10\n",
            "1002/1002 [==============================] - 22s 22ms/step - loss: 0.0294 - accuracy: 0.9948 - val_loss: 0.6400 - val_accuracy: 0.8253\n",
            "Epoch 10/10\n",
            "1002/1002 [==============================] - 23s 23ms/step - loss: 0.0288 - accuracy: 0.9956 - val_loss: 0.6652 - val_accuracy: 0.8258\n"
          ]
        }
      ]
    },
    {
      "cell_type": "markdown",
      "source": [
        "Result on Validation Set Normal Neural Network"
      ],
      "metadata": {
        "id": "kQnMDiB2_NZz"
      }
    },
    {
      "cell_type": "code",
      "source": [
        "y_pred_val_nnnormal = modelNN.predict(X_Valpadded)\n",
        "y_pred_val_nnnormal = np.argmax(y_pred_val_nnnormal, axis=1)\n",
        "y_pred_val_nnnormal = np.vectorize(reversefactor.get)(y_pred_val_nnnormal)\n",
        "print(classification_report(y_valconverted, y_pred_val_nnnormal))"
      ],
      "metadata": {
        "colab": {
          "base_uri": "https://localhost:8080/"
        },
        "id": "r0FcC0aK_STY",
        "outputId": "e7402be6-e2fb-4ac9-b1b7-7d4a6c238cd7"
      },
      "execution_count": null,
      "outputs": [
        {
          "output_type": "stream",
          "name": "stdout",
          "text": [
            "62/62 [==============================] - 0s 5ms/step\n",
            "              precision    recall  f1-score   support\n",
            "\n",
            "       anger       0.80      0.78      0.79       227\n",
            "        fear       0.84      0.74      0.79       232\n",
            "         joy       0.86      0.88      0.87       703\n",
            "        love       0.63      0.61      0.62       168\n",
            "     sadness       0.85      0.90      0.88       577\n",
            "    surprise       0.71      0.60      0.65        73\n",
            "\n",
            "    accuracy                           0.83      1980\n",
            "   macro avg       0.78      0.75      0.77      1980\n",
            "weighted avg       0.82      0.83      0.82      1980\n",
            "\n"
          ]
        }
      ]
    },
    {
      "cell_type": "markdown",
      "source": [
        "Results on Test Set Normal Neural Network"
      ],
      "metadata": {
        "id": "FcJHA_Wb_jof"
      }
    },
    {
      "cell_type": "code",
      "source": [
        "y_pred_test_nnnormal = modelNN.predict(X_testpadded)\n",
        "y_pred_test_nnnormal = np.argmax(y_pred_test_nnnormal, axis=1)\n",
        "y_pred_test_nnnormal = np.vectorize(reversefactor.get)(y_pred_test_nnnormal)\n",
        "print(classification_report(y_testconverted, y_pred_test_nnnormal))"
      ],
      "metadata": {
        "colab": {
          "base_uri": "https://localhost:8080/"
        },
        "id": "HElwte9f_hrG",
        "outputId": "364dccab-3c8c-4600-cb7e-abc9236876d2"
      },
      "execution_count": null,
      "outputs": [
        {
          "output_type": "stream",
          "name": "stdout",
          "text": [
            "63/63 [==============================] - 0s 5ms/step\n",
            "              precision    recall  f1-score   support\n",
            "\n",
            "       anger       0.84      0.78      0.81       261\n",
            "        fear       0.77      0.74      0.75       231\n",
            "         joy       0.87      0.89      0.88       675\n",
            "        love       0.67      0.73      0.70       161\n",
            "     sadness       0.86      0.90      0.88       584\n",
            "    surprise       0.71      0.51      0.60        88\n",
            "\n",
            "    accuracy                           0.83      2000\n",
            "   macro avg       0.79      0.76      0.77      2000\n",
            "weighted avg       0.83      0.83      0.83      2000\n",
            "\n"
          ]
        }
      ]
    },
    {
      "cell_type": "markdown",
      "source": [
        "Training the LSTM Layer Neural Network"
      ],
      "metadata": {
        "id": "oq75Hitiy0iq"
      }
    },
    {
      "cell_type": "code",
      "source": [
        "model = Sequential()\n",
        "embedding_layer = Embedding(vocab_size, 100, weights=[embedding_matrix], input_length=maxlen , embeddings_initializer = Constant(embedding_matrix))\n",
        "model.add(embedding_layer)\n",
        "model.add(Bidirectional(LSTM(64, return_sequences = True)))\n",
        "model.add(Bidirectional(LSTM(64, return_sequences = True)))\n",
        "model.add(Bidirectional(LSTM(32,)))\n",
        "model.add(Dense(32, activation = 'relu'))\n",
        "model.add(Dense(6, activation = 'softmax'))\n",
        "\n",
        "opt = keras.optimizers.Adam(learning_rate=0.001)\n",
        "model.compile(loss=\"sparse_categorical_crossentropy\",\n",
        "                optimizer=opt,metrics=[\"accuracy\"])"
      ],
      "metadata": {
        "id": "UdmL36hnszSX"
      },
      "execution_count": null,
      "outputs": []
    },
    {
      "cell_type": "code",
      "source": [
        "historyLstm = model.fit(X_trainpadded, y_train, validation_data = (X_Valpadded, y_val), epochs = 5,verbose=1)"
      ],
      "metadata": {
        "colab": {
          "base_uri": "https://localhost:8080/"
        },
        "id": "_TpCa2QZtHR-",
        "outputId": "d23cf7f2-e3ce-4ff9-b475-3b3ccdb4d656"
      },
      "execution_count": null,
      "outputs": [
        {
          "output_type": "stream",
          "name": "stdout",
          "text": [
            "Epoch 1/5\n",
            "501/501 [==============================] - 194s 365ms/step - loss: 1.1981 - accuracy: 0.5296 - val_loss: 0.7247 - val_accuracy: 0.7253\n",
            "Epoch 2/5\n",
            "501/501 [==============================] - 177s 353ms/step - loss: 0.4428 - accuracy: 0.8449 - val_loss: 0.2692 - val_accuracy: 0.8980\n",
            "Epoch 3/5\n",
            "501/501 [==============================] - 174s 347ms/step - loss: 0.1858 - accuracy: 0.9295 - val_loss: 0.1790 - val_accuracy: 0.9222\n",
            "Epoch 4/5\n",
            "501/501 [==============================] - 174s 348ms/step - loss: 0.1200 - accuracy: 0.9462 - val_loss: 0.1964 - val_accuracy: 0.9141\n",
            "Epoch 5/5\n",
            "501/501 [==============================] - 173s 346ms/step - loss: 0.0900 - accuracy: 0.9564 - val_loss: 0.1847 - val_accuracy: 0.9202\n"
          ]
        }
      ]
    },
    {
      "cell_type": "markdown",
      "source": [
        "Validation and Train Loss over the epochs"
      ],
      "metadata": {
        "id": "UaDB39tZC4RZ"
      }
    },
    {
      "cell_type": "code",
      "source": [
        "train_loss = historyLstm.history['loss']\n",
        "val_loss   = historyLstm.history['val_loss']\n",
        "train_acc  = historyLstm.history['accuracy']\n",
        "val_acc    = historyLstm.history['val_accuracy']\n",
        "xc         = range(5)\n",
        "plt.figure(figsize=(12, 6))\n",
        "plt.plot(xc, train_loss, label=\"train\")\n",
        "plt.plot(xc, val_loss, label=\"valdiation\")\n",
        "plt.legend()\n",
        "plt.title(\"validation and train loss\")\n",
        "plt.show()"
      ],
      "metadata": {
        "colab": {
          "base_uri": "https://localhost:8080/",
          "height": 411
        },
        "id": "V7JNhwbrWKKl",
        "outputId": "29a87d0d-6d53-47b3-80f4-0f1e5b800e30"
      },
      "execution_count": null,
      "outputs": [
        {
          "output_type": "display_data",
          "data": {
            "text/plain": [
              "<Figure size 864x432 with 1 Axes>"
            ],
            "image/png": "[encoded data removed]"
          },
          "metadata": {
            "needs_background": "light"
          }
        }
      ]
    },
    {
      "cell_type": "markdown",
      "source": [
        "Results on Validation set LSTM"
      ],
      "metadata": {
        "id": "uH6N3OQcC7fC"
      }
    },
    {
      "cell_type": "code",
      "source": [
        "y_pred_val_lstm = model.predict(X_Valpadded)\n",
        "y_pred_val_lstm = np.argmax(y_pred_val_lstm, axis=1)\n",
        "y_pred_val_lstm = np.vectorize(reversefactor.get)(y_pred_val_lstm)\n",
        "print(classification_report(y_valconverted, y_pred_val_lstm))"
      ],
      "metadata": {
        "colab": {
          "base_uri": "https://localhost:8080/"
        },
        "id": "DwU1w7Wk9OsI",
        "outputId": "896fc33d-4cb0-46bf-d300-ef8e01a49c9e"
      },
      "execution_count": null,
      "outputs": [
        {
          "output_type": "stream",
          "name": "stdout",
          "text": [
            "62/62 [==============================] - 7s 76ms/step\n",
            "              precision    recall  f1-score   support\n",
            "\n",
            "       anger       0.90      0.96      0.93       227\n",
            "        fear       0.90      0.89      0.89       232\n",
            "         joy       0.92      0.95      0.94       703\n",
            "        love       0.79      0.77      0.78       168\n",
            "     sadness       0.99      0.93      0.96       577\n",
            "    surprise       0.77      0.88      0.82        73\n",
            "\n",
            "    accuracy                           0.92      1980\n",
            "   macro avg       0.88      0.90      0.89      1980\n",
            "weighted avg       0.92      0.92      0.92      1980\n",
            "\n"
          ]
        }
      ]
    },
    {
      "cell_type": "markdown",
      "source": [
        "Results on Test set LSTM"
      ],
      "metadata": {
        "id": "ioxGd8BsC_q1"
      }
    },
    {
      "cell_type": "code",
      "source": [
        "y_pred_test_lstm = model.predict(X_testpadded)\n",
        "y_pred_test_lstm = np.argmax(y_pred_test_lstm, axis=1)\n",
        "y_pred_test_lstm = np.vectorize(reversefactor.get)(y_pred_test_lstm)\n",
        "print(classification_report(y_testconverted, y_pred_test_lstm))"
      ],
      "metadata": {
        "colab": {
          "base_uri": "https://localhost:8080/"
        },
        "id": "JI6AZKBv-8Nc",
        "outputId": "d210f29b-8a4e-4b01-f193-f49dc3a93aab"
      },
      "execution_count": null,
      "outputs": [
        {
          "output_type": "stream",
          "name": "stdout",
          "text": [
            "63/63 [==============================] - 5s 77ms/step\n",
            "              precision    recall  f1-score   support\n",
            "\n",
            "       anger       0.92      0.92      0.92       261\n",
            "        fear       0.89      0.85      0.87       231\n",
            "         joy       0.94      0.97      0.95       675\n",
            "        love       0.84      0.83      0.83       161\n",
            "     sadness       0.99      0.95      0.97       584\n",
            "    surprise       0.79      0.91      0.85        88\n",
            "\n",
            "    accuracy                           0.93      2000\n",
            "   macro avg       0.89      0.90      0.90      2000\n",
            "weighted avg       0.93      0.93      0.93      2000\n",
            "\n"
          ]
        }
      ]
    },
    {
      "cell_type": "markdown",
      "source": [
        "# Works Cited"
      ],
      "metadata": {
        "id": "RMd5T3WCQiLV"
      }
    },
    {
      "cell_type": "markdown",
      "source": [
        "https://www.kaggle.com/datasets/praveengovi/emotions-dataset-for-nlp\n",
        "\n",
        "https://www.kaggle.com/code/aryan7781/emotions-classification-using-lstm\n",
        "\n",
        "https://stackabuse.com/python-for-nlp-movie-sentiment-analysis-using-deep-learning-in-keras\n",
        "\n",
        "https://www.codementor.io/@agarrahul01/multiclass-classification-using-random-forest-on-scikit-learn-library-hkk4lwawu\n",
        "\n",
        "https://www.mygreatlearning.com/blog/bag-of-words/\n",
        "\n",
        "https://saifmohammad.com/WebPages/NRC-Emotion-Lexicon.htm"
      ],
      "metadata": {
        "id": "TmSPJ1L3Qle_"
      }
    }
  ]
}